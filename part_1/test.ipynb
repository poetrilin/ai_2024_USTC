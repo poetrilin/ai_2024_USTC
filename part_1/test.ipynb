{
 "cells": [
  {
   "cell_type": "code",
   "execution_count": 3,
   "metadata": {},
   "outputs": [],
   "source": [
    "from typing import List,Union\n",
    "from sklearn.datasets import load_iris\n",
    "from sklearn.model_selection import train_test_split\n",
    "from sklearn.preprocessing import LabelEncoder\n",
    "import numpy as np\n",
    "import pandas as pd\n"
   ]
  },
  {
   "cell_type": "code",
   "execution_count": 4,
   "metadata": {},
   "outputs": [],
   "source": [
    "datapath: str = './data/ObesityDataSet_raw_and_data_sinthetic.csv'\n",
    "df = pd.read_csv(datapath)\n",
    "continue_features = ['Age', 'Height', 'Weight', 'NCP', 'CH2O', 'FAF', 'FCVC', 'TUE']\n",
    "discrete_features = ['Gender', 'CALC', 'FAVC',  'SCC', 'SMOKE',\n",
    "                        'family_history_with_overweight', 'CAEC', 'MTRANS']\n",
    "\n",
    "X, y = df.iloc[:, :-1], df.iloc[:, -1]\n",
    "# encode discrete str to number, eg. male&female to 0&1\n",
    "labelencoder = LabelEncoder()\n",
    "for col in discrete_features:\n",
    "    X[col] = labelencoder.fit(X[col]).transform(X[col])\n",
    "y = labelencoder.fit(y).fit_transform(y)\n",
    "# binarize continue features\n",
    "for col in continue_features:\n",
    "    mid = (X[col].max() + X[col].min())/2\n",
    "    X[col] = X[col].apply(lambda x: 1 if x > mid else 0)\n",
    "\n",
    "X_train, X_test, y_train, y_test = train_test_split(\n",
    "    X, y, test_size=0.2, random_state=42)\n"
   ]
  },
  {
   "cell_type": "code",
   "execution_count": 7,
   "metadata": {},
   "outputs": [
    {
     "name": "stdout",
     "output_type": "stream",
     "text": [
      "Age:2\n",
      "Gender:2\n",
      "Height:2\n",
      "Weight:2\n",
      "CALC:4\n",
      "FAVC:2\n",
      "FCVC:810\n",
      "NCP:2\n",
      "SCC:2\n",
      "SMOKE:2\n",
      "CH2O:2\n",
      "family_history_with_overweight:2\n",
      "FAF:2\n",
      "TUE:1129\n",
      "CAEC:4\n",
      "MTRANS:5\n"
     ]
    }
   ],
   "source": [
    "for col in X.columns:\n",
    "    print(f\"{col}:{len(X[col].unique())}\")"
   ]
  },
  {
   "cell_type": "code",
   "execution_count": 4,
   "metadata": {},
   "outputs": [
    {
     "data": {
      "text/plain": [
       "array([[-1.22474487, -1.22474487, -1.22474487],\n",
       "       [ 0.        ,  0.        ,  0.        ],\n",
       "       [ 1.22474487,  1.22474487,  1.22474487]])"
      ]
     },
     "execution_count": 4,
     "metadata": {},
     "output_type": "execute_result"
    }
   ],
   "source": [
    "from sklearn.preprocessing import StandardScaler\n",
    "import numpy as np\n",
    "\n",
    "# 生成数据\n",
    "np.random.seed(0)\n",
    "\n",
    "X= np.array([[1,2,3],[4,5,6],[7,8,9]])\n",
    "# 标准化数据\n",
    "scaler = StandardScaler()\n",
    "X_std = scaler.fit_transform(X)\n",
    "X = (X - X.mean(axis=0)) / X.std(axis=0)\n",
    "X"
   ]
  },
  {
   "cell_type": "code",
   "execution_count": null,
   "metadata": {},
   "outputs": [],
   "source": []
  }
 ],
 "metadata": {
  "kernelspec": {
   "display_name": "base",
   "language": "python",
   "name": "python3"
  },
  "language_info": {
   "codemirror_mode": {
    "name": "ipython",
    "version": 3
   },
   "file_extension": ".py",
   "mimetype": "text/x-python",
   "name": "python",
   "nbconvert_exporter": "python",
   "pygments_lexer": "ipython3",
   "version": "3.9.17"
  }
 },
 "nbformat": 4,
 "nbformat_minor": 2
}
